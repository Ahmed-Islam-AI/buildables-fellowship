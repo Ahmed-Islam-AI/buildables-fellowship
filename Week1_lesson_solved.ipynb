{
 "cells": [
  {
   "cell_type": "markdown",
   "id": "d66f0500",
   "metadata": {},
   "source": [
    "# 🚀 **Introduction to APIs and LLMs with Python**\n",
    "\n",
    "Welcome! 👋  \n",
    "In this notebook, we will learn the basics of AI (Artificial Intelligence), LLMs (Large Language Models), APIs (Application Programming Interfaces).\n",
    "\n",
    "By the end of this notebook, you will:  \n",
    "- What is AI.  \n",
    "- What are LLM.  \n",
    "- What are API.\n"
   ]
  },
  {
   "cell_type": "markdown",
   "id": "83150a22",
   "metadata": {},
   "source": [
    "---\n",
    "\n",
    "### What is Artificial Intelligence (AI)?"
   ]
  },
  {
   "cell_type": "markdown",
   "id": "73b74016",
   "metadata": {},
   "source": [
    "👉 Artificial Intelligence (AI) means teaching computers to think and act like humans.\n",
    "\n",
    "Just like we use our brain to learn, solve problems, and make decisions, AI helps computers do the same.\n",
    "\n",
    "For example:\n",
    "\n",
    "1) When you talk to Siri or Alexa and they answer you → that’s AI.\n",
    "\n",
    "2) When YouTube shows you videos you may like → that’s AI.\n",
    "\n",
    "3) When a self-driving car follows the road → that’s AI.\n",
    "\n",
    "So, AI is like giving a computer a mini brain to understand, learn, and decide. OR in simple words AI is just automation...\n",
    "\n",
    "---"
   ]
  },
  {
   "cell_type": "markdown",
   "id": "0fa29b08",
   "metadata": {},
   "source": [
    "### 💡 **Quick Questions**: "
   ]
  },
  {
   "cell_type": "markdown",
   "id": "202be2da",
   "metadata": {},
   "source": [
    "1. Do yo think AI should be defined by how it is built, or by what it can do? Why?\n",
    "\n",
    "- Answer 👉 Define AI by *what it can do* (its capabilities) rather than the exact technique. Users and policymakers care about outcomes like accuracy, safety, and impact. Internally, how it's built matters for engineering and risk, but function-based definitions stay future‑proof as methods change."
   ]
  },
  {
   "cell_type": "markdown",
   "id": "a798c03b",
   "metadata": {},
   "source": [
    "2. Today's AI is mostly narrow AI (like bots, recommendation systems, etc). What do you think true 'general AI' would look like - and how close are we to it?\n",
    "\n",
    "- Answer 👉 Narrow AI is specialized (chatbots, recommenders, vision models). A true *general AI* would flexibly learn, reason, plan, and transfer skills across domains with minimal data and supervision. We’re not close yet: current systems lack robust world models, long‑term memory, causal reasoning, and grounding; they’re brittle outside training distributions."
   ]
  },
  {
   "cell_type": "markdown",
   "id": "b5587b81",
   "metadata": {},
   "source": [
    "3. Can AI ‘understand’ things the way humans do, or is it just simulating understanding?\n",
    "\n",
    "- Answer 👉 LLMs *simulate* understanding via statistical pattern prediction. They can show *functional* understanding (solve tasks reliably) but don’t have human‑like embodied experience or consciousness. So: operationally useful, philosophically not the same as human understanding."
   ]
  },
  {
   "cell_type": "markdown",
   "id": "aa230e0f",
   "metadata": {},
   "source": [
    "4. If an AI system makes a decision that harms someone, who should be responsible: the AI, the developer, or the user?\n",
    "\n",
    "- Answer 👉 Responsibility should follow the *sociotechnical chain*: organizations (for design/governance), developers (for foreseeable risks and testing), and deploying users (for misuse) share accountability. The AI itself isn’t a legal actor."
   ]
  },
  {
   "cell_type": "markdown",
   "id": "e18502d3",
   "metadata": {},
   "source": [
    "5. Should AI be allowed to make decisions in areas like healthcare, hiring, or law? Why or why not?\n",
    "\n",
    "- Answer 👉 Only with strong safeguards: transparency, human‑in‑the‑loop, bias audits, explainability, and recourse processes. In high‑stakes domains (healthcare, hiring, law), AI should *assist* decisions, not make final calls alone."
   ]
  },
  {
   "cell_type": "markdown",
   "id": "5d3c001a",
   "metadata": {},
   "source": [
    "6. If an AI composes music or paints artwork, who owns the rights — the AI, the programmer, or nobody?\n",
    "\n",
    "- Answer 👉 Current law typically assigns IP to humans/organizations. If a human authors via AI, rights usually belong to the human/user or their employer, not the model. Many jurisdictions deny copyright to purely machine‑generated works."
   ]
  },
  {
   "cell_type": "markdown",
   "id": "d7ad6c92",
   "metadata": {},
   "source": [
    "7. Which jobs do you think AI will change the most in the next 10 years, and which jobs are the hardest for AI to replace?\n",
    "\n",
    "- Answer 👉 Most changed: routine knowledge work (support, marketing content, coding assistance, data analysis). Hardest to replace: roles needing embodied skills, complex social judgment, responsibility, or creativity tied to real‑world context (nurses, teachers, electricians, product managers)."
   ]
  },
  {
   "cell_type": "markdown",
   "id": "227be13c",
   "metadata": {},
   "source": [
    "8. Would you trust an AI to drive your car, perform surgery, or grade your exams? Why or why not?\n",
    "\n",
    "- Answer 👉 Trust depends on risk and evidence. I’d accept AI driving or grading *with proven safety, audits, and human override*; surgery requires the strictest validation and human supervision due to irreversible harm."
   ]
  },
  {
   "cell_type": "markdown",
   "id": "70a15aea",
   "metadata": {},
   "source": [
    "----\n",
    "\n",
    "###  What are LLMs?"
   ]
  },
  {
   "cell_type": "markdown",
   "id": "8d5c4ce8",
   "metadata": {},
   "source": [
    "👉 LLMs means Large Language Models.\n",
    "\n",
    "They are special computer programs that can read, understand, and write human language (like English, Urdu, or any other).\n",
    "\n",
    "🧠 How do they process and generate text?\n",
    "\n",
    "Think of it like this:\n",
    "\n",
    "1) Learning stage 📚\n",
    "\n",
    "    - The LLM reads a lot of books, websites, stories, and articles.\n",
    "\n",
    "    - From this, it learns how words are used and which words usually come after each other.\n",
    "\n",
    "2) Understanding stage 👂\n",
    "\n",
    "    - When you ask a question (like “What is the sky’s color?”), it looks at the words carefully.\n",
    "\n",
    "3) Writing stage ✍️\n",
    "\n",
    "    - It then guesses the next word step by step.\n",
    "\n",
    "    - Example: If you say, “The sky is…”\n",
    "    → It has seen many times that the next word is “blue.”\n",
    "\n",
    "    - So it answers: “The sky is blue.”"
   ]
  },
  {
   "cell_type": "markdown",
   "id": "ebfb9536",
   "metadata": {},
   "source": [
    "🌈 Easy way to remember\n",
    "\n",
    "LLM is like a super-smart parrot 🦜:\n",
    "\n",
    "- It has read millions of books.\n",
    "\n",
    "- When you talk to it, it replies by picking the best words it learned before.\n",
    "\n",
    "---"
   ]
  },
  {
   "cell_type": "markdown",
   "id": "40a28289",
   "metadata": {},
   "source": [
    "### 💡 **Quick Questions** "
   ]
  },
  {
   "cell_type": "markdown",
   "id": "8f09b3f4",
   "metadata": {},
   "source": [
    "1. What is one task that LLMs perform surprisingly well, and one task where they still struggle — and why do you think that is?\n",
    "\n",
    "- Answer 👉 Strong: drafting, summarization, translation, coding, patterns learned from massive text. Weak: precise math/logic, factual reliability under pressure, up‑to‑date knowledge without tools, grounded reasoning. Training objective favors fluent text over truth."
   ]
  },
  {
   "cell_type": "markdown",
   "id": "5d57a758",
   "metadata": {},
   "source": [
    "2. If an LLM gives a very confident but wrong answer, should we call that a ‘mistake’ like in humans, or something else? Why?\n",
    "\n",
    "- Answer 👉 Call it a *model error* (hallucination) rather than a human‑like mistake. The model optimizes next‑token likelihood, not truth, confidence reflects fluency, not certainty."
   ]
  },
  {
   "cell_type": "markdown",
   "id": "e64f4bae",
   "metadata": {},
   "source": [
    "3. Do you think LLMs will replace programmers, or just change the way programming is done? Why?\n",
    "\n",
    "- Answer 👉 They’ll *augment* programmers: faster prototyping, tests, refactors, boilerplate. Still need humans for system design, security, debugging edge cases, and aligning software with real requirements."
   ]
  },
  {
   "cell_type": "markdown",
   "id": "eacb03e9",
   "metadata": {},
   "source": [
    "4. Humans learn language from relatively little data compared to LLMs, which need billions of words. Why do you think humans are so much more data-efficient?\n",
    "\n",
    "- Answer 👉 Humans learn efficiently via grounding (sensorimotor experience), social cues, innate priors, and continual learning over rich contexts. LLMs lack embodiment and learn from static text with objectives that don’t enforce true world models."
   ]
  },
  {
   "cell_type": "markdown",
   "id": "81c628d5",
   "metadata": {},
   "source": [
    "5. When an LLM generates a poem or a story, would you call it ‘creative’? Why or why not?\n",
    "\n",
    "- Answer 👉 It’s *derivative creativity*: recombining patterns in novel ways. That’s useful and can be impressive, but it lacks intent, taste formation, and lived experience—so different from human creativity."
   ]
  },
  {
   "cell_type": "markdown",
   "id": "9fd2355b",
   "metadata": {},
   "source": [
    "6. If you ask the same LLM the same question multiple times, you might get different answers. What does this tell us about how LLMs generate text?\n",
    "\n",
    "- Answer 👉 Stochastic sampling (temperature, nucleus sampling) and non‑determinism mean multiple plausible continuations small changes in randomness or context yield different answers. it’s probabilistic text generation, not fixed recall."
   ]
  },
  {
   "cell_type": "markdown",
   "id": "1ef6eb41",
   "metadata": {},
   "source": [
    "---\n",
    "\n",
    "###  What are APIs?"
   ]
  },
  {
   "cell_type": "markdown",
   "id": "8d2479b1",
   "metadata": {},
   "source": [
    "👉 API means Application Programming Interface.\n",
    "\n",
    "That sounds big, but here’s the simple meaning:\n",
    "\n",
    "An API is like a waiter in a restaurant. 🍽️\n",
    "\n",
    "* You (the customer) tell the waiter what food you want.\n",
    "* The waiter takes your order to the kitchen (the system).\n",
    "* The kitchen makes the food.\n",
    "* The waiter brings the food back to you.\n",
    "\n",
    "👉 In the same way:\n",
    "\n",
    "* You (the user) send a request through an API.\n",
    "* The computer/server prepares the data.\n",
    "* The API brings the data back to you.\n",
    "\n",
    "🖥️ Example:\n",
    "\n",
    "* If you want to know today’s **weather**, you ask the **Weather API**.\n",
    "* The API goes to the weather database, finds the answer, and gives it back to you.\n",
    "* So yophone ur app shows: *“It’s 30°C and sunny ☀️.”*\n",
    "\n",
    "\n",
    "🌈 Easy way to remember:\n",
    "\n",
    "API = Middleman/helper -> that carries your request and brings back the answer."
   ]
  },
  {
   "cell_type": "markdown",
   "id": "eaa594df",
   "metadata": {},
   "source": [
    "---\n",
    "\n",
    "### What is role of APIs in Automation?"
   ]
  },
  {
   "cell_type": "markdown",
   "id": "284fd0c9",
   "metadata": {},
   "source": [
    "🌟 Role of APIs in Automation\n",
    "\n",
    "👉 Automation means making machines do work automatically (without humans doing every step).\n",
    "\n",
    "👉 APIs help automation by letting different programs talk to each other and share information."
   ]
  },
  {
   "cell_type": "markdown",
   "id": "05768a01",
   "metadata": {},
   "source": [
    "🖥️ Example 1: Using Weather API\n",
    "\n",
    "* Imagine you want to see the weather every morning.\n",
    "* Without API → You would open the website, search, and read.\n",
    "* With API → A program can **automatically** ask the weather API and show:\n",
    "\n",
    "  *“Good morning! Today is sunny ☀️.”*\n",
    "  \n",
    "  ➡️ You don’t have to do anything — it’s automatic!\n"
   ]
  },
  {
   "cell_type": "markdown",
   "id": "9e31d6be",
   "metadata": {},
   "source": [
    "🧠 Example 2: Accessing LLMs (like ChatGPT) through API\n",
    "\n",
    "* LLM (Large Language Model) is like a **big smart brain** on a server.\n",
    "* But that brain doesn’t live on your computer — it’s far away (in the cloud).\n",
    "* **API** is the bridge 🌉 that lets your app talk to that brain.\n",
    "\n",
    "👉 Steps:\n",
    "\n",
    "1. You type a question in your app → “Tell me a story about a dragon.” 🐉\n",
    "2. Your app sends this request through the **API** to the LLM.\n",
    "3. The LLM thinks and writes a story.\n",
    "4. The **API brings back** the story to your app.\n",
    "\n",
    "➡️ This way, you can use the smart LLM **remotely** (from anywhere) without installing it on your computer."
   ]
  },
  {
   "cell_type": "markdown",
   "id": "281ade04",
   "metadata": {},
   "source": [
    "🌈 Easy way to remember\n",
    "\n",
    "**API is like a magic pipe** 🔌:\n",
    "\n",
    "* One side: You put in your request.\n",
    "* Other side: You get back the answer.\n",
    "\n",
    "---"
   ]
  },
  {
   "cell_type": "markdown",
   "id": "b27abf4f",
   "metadata": {},
   "source": [
    "### 💡 **Quick Questions** "
   ]
  },
  {
   "cell_type": "markdown",
   "id": "a0089413",
   "metadata": {},
   "source": [
    "1. If an AI model is huge and cannot run on your laptop, how can an API make it usable for you?\n",
    "\n",
    "- Answer 👉 The heavy model runs on a remote server. The API exposes a simple HTTP endpoint; you send inputs, the provider does the compute, you receive results. You only need internet and an API key."
   ]
  },
  {
   "cell_type": "markdown",
   "id": "76728b8c",
   "metadata": {},
   "source": [
    "2. Why do most AI companies (like OpenAI, Hugging Face, Google) provide APIs instead of letting people directly download their models?\n",
    "\n",
    "- Answer 👉 To control cost and safety, protect IP, update models centrally, enforce policies (logging, abuse prevention), and scale reliably. Downloaded models are harder to govern and may not fit on consumer hardware."
   ]
  },
  {
   "cell_type": "markdown",
   "id": "e50ac81d",
   "metadata": {},
   "source": [
    "3. Why do you think API rate limits exist? How does it affect AI usage?\n",
    "\n",
    "- Answer 👉 To prevent abuse (spam, scraping), ensure fair sharing of finite compute, and control costs. For users, you design batching, caching, and backoff and avoid chatty architectures."
   ]
  },
  {
   "cell_type": "markdown",
   "id": "a81ad685",
   "metadata": {},
   "source": [
    "4. How would you handle an API error like 429 Too Many Requests in your code?\n",
    "\n",
    "- Answer 👉 Implement exponential backoff and jitter; respect `Retry-After` if provided; reduce request rate via batching/caching; degrade gracefully (fallback models/modes) and surface useful error messages."
   ]
  },
  {
   "cell_type": "markdown",
   "id": "e019ae9e",
   "metadata": {},
   "source": [
    "---\n",
    "\n",
    "## 🌟 How it all connects 🤝\n",
    "\n",
    "* **AI** = The smart brain.\n",
    "* **LLM** = A type of AI that talks like humans.\n",
    "* **API** = The messenger that connects us to AI/LLMs.\n",
    "* **Automation** = The reason we use APIs — to make work happen without us doing it again and again.\n",
    "\n",
    "✨ So, whenever you hear:\n",
    "\n",
    "* **AI** → Smart brain for computers.\n",
    "* **LLM** → AI that talks like humans.\n",
    "* **API** → Messenger/waiter/helper.\n",
    "* **Automation** → Work done automatically.\n",
    "\n",
    "\n",
    "---"
   ]
  },
  {
   "cell_type": "markdown",
   "id": "7c2846e7",
   "metadata": {},
   "source": [
    "## 🐍 Python for API Interaction"
   ]
  },
  {
   "cell_type": "markdown",
   "id": "08f1820a",
   "metadata": {},
   "source": [
    "🌟 **1. Using requests to call an API**\n",
    "\n",
    "Python has a library called requests that helps us talk to APIs (send requests and get answers).\n",
    "\n",
    "👉 Example:\n",
    "Let’s get some data from a public API (e.g., a joke API 🤭)."
   ]
  },
  {
   "cell_type": "code",
   "execution_count": 3,
   "id": "dbebb5b6",
   "metadata": {},
   "outputs": [
    {
     "name": "stdout",
     "output_type": "stream",
     "text": [
      "{\"type\":\"general\",\"setup\":\"Why did the mushroom get invited to the party?\",\"punchline\":\"Because he was a fungi.\",\"id\":35}\n"
     ]
    }
   ],
   "source": [
    "import requests\n",
    "\n",
    "# Send a GET request to the API\n",
    "response = requests.get(\"https://official-joke-api.appspot.com/random_joke\")\n",
    "\n",
    "# Print raw response (text)\n",
    "print(response.text)\n"
   ]
  },
  {
   "cell_type": "markdown",
   "id": "bcdb289c",
   "metadata": {},
   "source": [
    "➡️ This sends a message to the API, and the API replies with data (usually in JSON format)."
   ]
  },
  {
   "cell_type": "markdown",
   "id": "9d28b497",
   "metadata": {},
   "source": [
    "🌟 **2. What is JSON?**\n",
    "\n",
    "👉 JSON = JavaScript Object Notation.\n",
    "\n",
    "It’s a way to store and share data.\n",
    "\n",
    "Looks like a dictionary in Python → with keys and values.\n",
    "\n",
    "💡 Example JSON from joke API:"
   ]
  },
  {
   "cell_type": "code",
   "execution_count": 2,
   "id": "6b792eb4",
   "metadata": {},
   "outputs": [
    {
     "data": {
      "text/plain": [
       "{'id': 123,\n",
       " 'type': 'general',\n",
       " 'setup': 'Why did the computer go to the doctor?',\n",
       " 'punchline': 'Because it caught a virus!'}"
      ]
     },
     "execution_count": 2,
     "metadata": {},
     "output_type": "execute_result"
    }
   ],
   "source": [
    "{\n",
    "  \"id\": 123,\n",
    "  \"type\": \"general\",\n",
    "  \"setup\": \"Why did the computer go to the doctor?\",\n",
    "  \"punchline\": \"Because it caught a virus!\"\n",
    "}"
   ]
  },
  {
   "cell_type": "markdown",
   "id": "e06e3cd1",
   "metadata": {},
   "source": [
    "🌟 **3. Handling JSON in Python**\n",
    "\n",
    "We use .json() method to turn the API response into a Python dictionary.\n",
    "\n",
    "👉 Example:"
   ]
  },
  {
   "cell_type": "code",
   "execution_count": 1,
   "id": "7028a244",
   "metadata": {},
   "outputs": [
    {
     "name": "stdout",
     "output_type": "stream",
     "text": [
      "Setup: Did you hear the news?\n",
      "Punchline: FedEx and UPS are merging. They’re going to go by the name Fed-Up from now on.\n"
     ]
    }
   ],
   "source": [
    "import requests\n",
    "\n",
    "# Call the API\n",
    "response = requests.get(\"https://official-joke-api.appspot.com/random_joke\")\n",
    "\n",
    "# Convert to Python dictionary\n",
    "data = response.json()\n",
    "\n",
    "# Access parts of the JSON\n",
    "print(\"Setup:\", data[\"setup\"])\n",
    "print(\"Punchline:\", data[\"punchline\"])"
   ]
  },
  {
   "cell_type": "markdown",
   "id": "edc0f161",
   "metadata": {},
   "source": [
    "# 📘 Groq account, Notebook and GitHub 🗂"
   ]
  },
  {
   "cell_type": "markdown",
   "id": "409a92ee",
   "metadata": {},
   "source": [
    "### Part 1: Google Colab (Easiest Path)\n",
    "\n",
    "1. Go to [Google Colab](https://colab.research.google.com/).\n",
    "2. Click **New Notebook** → a fresh page opens.\n",
    "3. In each cell, type Python code → press **Shift + Enter** to run.\n",
    "4. Install libraries inside Colab with `!pip install <package>`\n",
    "\n",
    "💡 Example:"
   ]
  },
  {
   "cell_type": "code",
   "execution_count": 4,
   "id": "2eca7d73",
   "metadata": {},
   "outputs": [
    {
     "name": "stdout",
     "output_type": "stream",
     "text": [
      "Defaulting to user installation because normal site-packages is not writeable\n",
      "Collecting groq\n",
      "  Downloading groq-0.31.0-py3-none-any.whl.metadata (16 kB)\n",
      "Requirement already satisfied: anyio<5,>=3.5.0 in c:\\users\\ahmed islam\\appdata\\roaming\\python\\python310\\site-packages (from groq) (3.7.1)\n",
      "Requirement already satisfied: distro<2,>=1.7.0 in c:\\miniconda\\lib\\site-packages (from groq) (1.9.0)\n",
      "Requirement already satisfied: httpx<1,>=0.23.0 in c:\\users\\ahmed islam\\appdata\\roaming\\python\\python310\\site-packages (from groq) (0.28.1)\n",
      "Requirement already satisfied: pydantic<3,>=1.9.0 in c:\\users\\ahmed islam\\appdata\\roaming\\python\\python310\\site-packages (from groq) (2.5.0)\n",
      "Requirement already satisfied: sniffio in c:\\users\\ahmed islam\\appdata\\roaming\\python\\python310\\site-packages (from groq) (1.3.1)\n",
      "Requirement already satisfied: typing-extensions<5,>=4.10 in c:\\users\\ahmed islam\\appdata\\roaming\\python\\python310\\site-packages (from groq) (4.14.1)\n",
      "Requirement already satisfied: idna>=2.8 in c:\\users\\ahmed islam\\appdata\\roaming\\python\\python310\\site-packages (from anyio<5,>=3.5.0->groq) (2.10)\n",
      "Requirement already satisfied: exceptiongroup in c:\\users\\ahmed islam\\appdata\\roaming\\python\\python310\\site-packages (from anyio<5,>=3.5.0->groq) (1.3.0)\n",
      "Requirement already satisfied: certifi in c:\\users\\ahmed islam\\appdata\\roaming\\python\\python310\\site-packages (from httpx<1,>=0.23.0->groq) (2025.1.31)\n",
      "Requirement already satisfied: httpcore==1.* in c:\\users\\ahmed islam\\appdata\\roaming\\python\\python310\\site-packages (from httpx<1,>=0.23.0->groq) (1.0.9)\n",
      "Requirement already satisfied: h11>=0.16 in c:\\users\\ahmed islam\\appdata\\roaming\\python\\python310\\site-packages (from httpcore==1.*->httpx<1,>=0.23.0->groq) (0.16.0)\n",
      "Requirement already satisfied: annotated-types>=0.4.0 in c:\\users\\ahmed islam\\appdata\\roaming\\python\\python310\\site-packages (from pydantic<3,>=1.9.0->groq) (0.7.0)\n",
      "Requirement already satisfied: pydantic-core==2.14.1 in c:\\users\\ahmed islam\\appdata\\roaming\\python\\python310\\site-packages (from pydantic<3,>=1.9.0->groq) (2.14.1)\n",
      "Downloading groq-0.31.0-py3-none-any.whl (131 kB)\n",
      "Installing collected packages: groq\n",
      "Successfully installed groq-0.31.0\n"
     ]
    }
   ],
   "source": [
    "!pip install groq"
   ]
  },
  {
   "cell_type": "markdown",
   "id": "d7aaef64",
   "metadata": {},
   "source": [
    "### Pushing my notebook to the github repository"
   ]
  },
  {
   "cell_type": "code",
   "execution_count": null,
   "id": "4c5b52cc",
   "metadata": {},
   "outputs": [],
   "source": [
    "# Navigate to your project folder\n",
    "cd my_notebooks\n",
    "\n",
    "# Initialize Git\n",
    "git init\n",
    "\n",
    "# Add remote repository (replace with your repo link)\n",
    "git remote add origin https://github.com/ahmedislamai/AI-Projects.git\n",
    "\n",
    "# Add your files\n",
    "git add .\n",
    "\n",
    "# Commit changes\n",
    "git commit -m \"First notebook\"\n",
    "\n",
    "# Push to GitHub\n",
    "git push -u origin main"
   ]
  },
  {
   "cell_type": "markdown",
   "id": "1a075628",
   "metadata": {},
   "source": [
    "### Using Groq API for the Text to speech and the simple Query bot\n"
   ]
  },
  {
   "cell_type": "code",
   "execution_count": null,
   "id": "5be9d473",
   "metadata": {},
   "outputs": [
    {
     "name": "stdout",
     "output_type": "stream",
     "text": [
      "✅ Saved speech to: C:\\Users\\Ahmed Islam\\Desktop\\Buildable Fellowship\\Buildables-Artificial-Intelligence-Fellowship\\speech.wav\n"
     ]
    }
   ],
   "source": [
    "import groq\n",
    "\n",
    "# Initialize Groq client\n",
    "client = groq.Client(api_key=\"Your_groq_API_key\")   # place your groq api key inside the double quotes\n",
    "\n",
    "# Generate speech audio\n",
    "\n",
    "speech_file_path = \"C:\\\\Users\\\\Ahmed Islam\\\\Desktop\\\\Buildable Fellowship\\\\Buildables-Artificial-Intelligence-Fellowship\\\\speech.wav\"\n",
    "\n",
    "with client.audio.speech.with_streaming_response.create(\n",
    "    model=\"playai-tts\",\n",
    "    voice=\"Aaliyah-PlayAI\",\n",
    "    input=\"Hello Ahmed! This is a text to speech test using Groq API.\"\n",
    ") as response:\n",
    "    response.stream_to_file(speech_file_path)\n",
    "\n",
    "print(\"✅ Saved speech to:\", speech_file_path)\n"
   ]
  },
  {
   "cell_type": "code",
   "execution_count": 15,
   "id": "2fc23119",
   "metadata": {},
   "outputs": [],
   "source": [
    "# Ask question to Groq LLM\n",
    "def ask_groq(question):\n",
    "    response = client.chat.completions.create(\n",
    "        model=\"openai/gpt-oss-20b\",\n",
    "        messages=[{\"role\": \"user\", \"content\": question}]\n",
    "    )\n",
    "    return response.choices[0].message.content"
   ]
  },
  {
   "cell_type": "code",
   "execution_count": 16,
   "id": "34b32827",
   "metadata": {},
   "outputs": [
    {
     "name": "stdout",
     "output_type": "stream",
     "text": [
      "🤖 Groq says: **APIs** (Application Programming Interfaces) are the “contracts” or “gateways” that let two software systems talk to each other. Think of an API as a waiter that takes your order (a request), goes to the kitchen (the underlying code or service), and brings back your food (a response) in a format you can understand.\n",
      "\n",
      "---\n",
      "\n",
      "### 1. What is an API?\n",
      "\n",
      "| Term | What it means |\n",
      "|------|----------------|\n",
      "| **Endpoint** | The specific URL or function you hit to perform an action. |\n",
      "| **Request** | The data you send to the API (HTTP headers, query params, body, etc.). |\n",
      "| **Response** | The data the API returns (JSON, XML, plain text, binary, etc.). |\n",
      "| **Protocol** | How the request/response travel – HTTP/HTTPS for web APIs, gRPC, AMQP, etc. |\n",
      "| **Format** | How the data is structured – JSON, XML, Protobuf, etc. |\n",
      "\n",
      "Types of APIs you’ll encounter:\n",
      "\n",
      "| Type | Typical Use |\n",
      "|------|-------------|\n",
      "| **REST** | Stateless, resource‑oriented (most web APIs). |\n",
      "| **GraphQL** | Client‑specifies exactly what data it needs. |\n",
      "| **SOAP** | XML‑based, more heavyweight, used in legacy enterprise systems. |\n",
      "| **gRPC** | Binary protocol, great for micro‑services with high performance needs. |\n",
      "| **SDK** | Language‑specific wrappers around an API for easier consumption. |\n",
      "\n",
      "---\n",
      "\n",
      "### 2. Why Do We Use APIs?\n",
      "\n",
      "| Benefit | Why it Matters |\n",
      "|---------|----------------|\n",
      "| **Decoupling** | Your front‑end can evolve independently from your back‑end. The two just need to keep their contract (the API) stable. |\n",
      "| **Reusability** | A single API can power multiple clients (web, mobile, IoT, third‑party developers). |\n",
      "| **Scalability** | Micro‑service architectures expose APIs; you can scale each service on its own. |\n",
      "| **Security** | You can centralise authentication, rate‑limiting, and logging at the API layer. |\n",
      "| **Versioning** | New features can be added behind a new API version without breaking existing consumers. |\n",
      "| **Automation** | Scripts, bots, and other systems can interact with your service programmatically. |\n",
      "| **Integration** | External partners can plug into your platform – e.g., payment gateways, CRM systems, analytics services. |\n",
      "\n",
      "---\n",
      "\n",
      "### 3. Practical Example\n",
      "\n",
      "You’re building a **shopping app**:\n",
      "\n",
      "1. **Front‑end (React)** calls `/api/products?category=books`.  \n",
      "2. The API server (Node + Express) receives the request, queries the database, and returns a JSON payload with product details.  \n",
      "3. The front‑end renders the list.  \n",
      "4. If you later replace the database or add caching, the front‑end never needs to change because the API contract stays the same.\n",
      "\n",
      "---\n",
      "\n",
      "### 4. Key Design Principles\n",
      "\n",
      "| Principle | What it means |\n",
      "|-----------|--------------|\n",
      "| **Statelessness** | Each request contains all information needed. |\n",
      "| **Idempotency** | Repeating a request yields the same result (e.g., `GET` or `DELETE`). |\n",
      "| **Clear Naming** | Use nouns for resources (`/orders/123`), verbs for actions if necessary (`/orders/123/cancel`). |\n",
      "| **Consistent Error Handling** | Return HTTP status codes and a structured error payload. |\n",
      "| **Documentation** | OpenAPI/Swagger or similar tools keep the contract discoverable. |\n",
      "| **Rate‑Limiting** | Protects against abuse. |\n",
      "| **Security** | OAuth2, JWT, API keys, CORS, HTTPS. |\n",
      "\n",
      "---\n",
      "\n",
      "### 5. When to Create an API\n",
      "\n",
      "- **Expose business logic** that needs to be reused by multiple teams or partners.  \n",
      "- **Decouple front‑end and back‑end** deployments.  \n",
      "- **Integrate with third‑party services** (e.g., Stripe, Twilio).  \n",
      "- **Implement micro‑services** or serverless functions that talk over HTTP.  \n",
      "- **Create SDKs** for languages other than your core stack.  \n",
      "\n",
      "---\n",
      "\n",
      "### Bottom Line\n",
      "\n",
      "APIs let software components interact in a predictable, versioned, and secure way. They’re the backbone of modern web, mobile, and cloud applications, enabling modularity, scalability, and the rapid delivery of new features. Whether you’re building a single‑page app, a micro‑service ecosystem, or a public developer platform, an API is usually the smartest way to expose and consume functionality.\n"
     ]
    }
   ],
   "source": [
    "# api call\n",
    "text = \"Can you tell me about the Api's and why we use it?\"\n",
    "answer = ask_groq(f\"Answer this question: {text}\")\n",
    "print(\"🤖 Groq says:\", answer)"
   ]
  }
 ],
 "metadata": {
  "kernelspec": {
   "display_name": "Python 3",
   "language": "python",
   "name": "python3"
  },
  "language_info": {
   "codemirror_mode": {
    "name": "ipython",
    "version": 3
   },
   "file_extension": ".py",
   "mimetype": "text/x-python",
   "name": "python",
   "nbconvert_exporter": "python",
   "pygments_lexer": "ipython3",
   "version": "3.10.0"
  }
 },
 "nbformat": 4,
 "nbformat_minor": 5
}
